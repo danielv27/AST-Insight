{
 "cells": [
  {
   "cell_type": "code",
   "execution_count": 38,
   "id": "a3bfc72c",
   "metadata": {},
   "outputs": [
    {
     "data": {
      "text/plain": [
       "dict"
      ]
     },
     "execution_count": 38,
     "metadata": {},
     "output_type": "execute_result"
    }
   ],
   "source": [
    "import os\n",
    "import json\n",
    "import pandas as pd\n",
    "from pathlib import Path\n",
    "# Define the path to your JSON files\n",
    "RESULTS_PATH = os.path.join(Path.cwd().parent, 'results')\n",
    "# Function to load all JSON files from the directory\n",
    "def load_json_files():\n",
    "    data = {}\n",
    "    for filename in os.listdir(RESULTS_PATH):\n",
    "        if filename.endswith('.json'):\n",
    "            with open(os.path.join(RESULTS_PATH, filename), 'r') as file:\n",
    "                data.update(json.load(file))\n",
    "                \n",
    "    return data\n",
    "\n",
    "data = load_json_files()\n",
    "type(data)"
   ]
  },
  {
   "cell_type": "code",
   "execution_count": 61,
   "id": "dc3f5163",
   "metadata": {},
   "outputs": [
    {
     "data": {
      "text/plain": [
       "6785"
      ]
     },
     "execution_count": 61,
     "metadata": {},
     "output_type": "execute_result"
    }
   ],
   "source": [
    "# Convert to DataFrame\n",
    "df = pd.DataFrame.from_dict(data).transpose()"
   ]
  },
  {
   "cell_type": "code",
   "execution_count": 55,
   "id": "eff30c46",
   "metadata": {},
   "outputs": [
    {
     "data": {
      "text/plain": [
       "9562"
      ]
     },
     "execution_count": 55,
     "metadata": {},
     "output_type": "execute_result"
    }
   ],
   "source": []
  },
  {
   "cell_type": "code",
   "execution_count": 63,
   "id": "00d6ff27",
   "metadata": {},
   "outputs": [
    {
     "data": {
      "text/plain": [
       "1203"
      ]
     },
     "execution_count": 63,
     "metadata": {},
     "output_type": "execute_result"
    }
   ],
   "source": [
    "df['suggestions'] = df['suggestions'].apply(lambda x: x if isinstance(x, list) else [])\n",
    "df['error'] = df['error'].fillna('')\n",
    "df['suggestions_count'] = df['suggestions'].apply(len)\n",
    "\n",
    "len(df[df['suggestions_count'] > 0])"
   ]
  },
  {
   "cell_type": "code",
   "execution_count": 64,
   "id": "63aa644e",
   "metadata": {},
   "outputs": [
    {
     "data": {
      "text/plain": [
       "2777"
      ]
     },
     "execution_count": 64,
     "metadata": {},
     "output_type": "execute_result"
    }
   ],
   "source": [
    "len(df[df['status'] != 200])"
   ]
  },
  {
   "cell_type": "code",
   "execution_count": null,
   "id": "e82ee102",
   "metadata": {},
   "outputs": [],
   "source": []
  }
 ],
 "metadata": {
  "kernelspec": {
   "display_name": "Python 3",
   "language": "python",
   "name": "python3"
  },
  "language_info": {
   "codemirror_mode": {
    "name": "ipython",
    "version": 3
   },
   "file_extension": ".py",
   "mimetype": "text/x-python",
   "name": "python",
   "nbconvert_exporter": "python",
   "pygments_lexer": "ipython3",
   "version": "3.9.4"
  }
 },
 "nbformat": 4,
 "nbformat_minor": 5
}
