{
 "cells": [
  {
   "cell_type": "code",
   "execution_count": 15,
   "id": "843bce06",
   "metadata": {},
   "outputs": [],
   "source": [
    "import os\n",
    "import json\n",
    "import pandas as pd\n",
    "from pathlib import Path\n",
    "import matplotlib.pyplot as plt\n",
    "# Define the path to your JSON files\n",
    "RESULTS_PATH = os.path.join(Path.cwd().parent, 'results')\n",
    "# Function to load all JSON files from the directory\n",
    "def load_json_files(infer = False):\n",
    "    data = {}\n",
    "    for filename in os.listdir(RESULTS_PATH):\n",
    "        if filename.endswith('.json'):\n",
    "            if infer and 'infer' in filename:\n",
    "                with open(os.path.join(RESULTS_PATH, filename), 'r') as file:\n",
    "                    data.update(json.load(file))\n",
    "            elif (not infer) and (not 'infer' in filename):\n",
    "                with open(os.path.join(RESULTS_PATH, filename), 'r') as file:\n",
    "                    data.update(json.load(file))\n",
    "                \n",
    "    return data\n",
    "\n"
   ]
  },
  {
   "cell_type": "code",
   "execution_count": 16,
   "id": "e05acaf1",
   "metadata": {},
   "outputs": [],
   "source": [
    "ast_insight_data = load_json_files()\n",
    "ast_insight_df = pd.DataFrame.from_dict(ast_insight_data).transpose()"
   ]
  },
  {
   "cell_type": "code",
   "execution_count": 17,
   "id": "0a5db22a",
   "metadata": {},
   "outputs": [
    {
     "data": {
      "text/plain": [
       "9562"
      ]
     },
     "execution_count": 17,
     "metadata": {},
     "output_type": "execute_result"
    }
   ],
   "source": [
    "len(ast_insight_df)"
   ]
  },
  {
   "cell_type": "code",
   "execution_count": 18,
   "id": "2bcc2704",
   "metadata": {},
   "outputs": [
    {
     "data": {
      "text/plain": [
       "1045"
      ]
     },
     "execution_count": 18,
     "metadata": {},
     "output_type": "execute_result"
    }
   ],
   "source": [
    "ast_insight_df['suggestions'] = ast_insight_df['suggestions'].apply(lambda x: x if isinstance(x, list) else [])\n",
    "ast_insight_df['error'] = ast_insight_df['error'].fillna('')\n",
    "ast_insight_df['suggestions_count'] = ast_insight_df['suggestions'].apply(len)\n",
    "\n",
    "len(ast_insight_df[ast_insight_df['suggestions_count'] > 0])"
   ]
  },
  {
   "cell_type": "code",
   "execution_count": 19,
   "id": "bc551476",
   "metadata": {},
   "outputs": [
    {
     "data": {
      "text/plain": [
       "1886"
      ]
     },
     "execution_count": 19,
     "metadata": {},
     "output_type": "execute_result"
    }
   ],
   "source": [
    "len(ast_insight_df[ast_insight_df['status'] != 200])"
   ]
  },
  {
   "cell_type": "code",
   "execution_count": 20,
   "id": "dbe16f79",
   "metadata": {},
   "outputs": [
    {
     "name": "stdout",
     "output_type": "stream",
     "text": [
      "TODO: fix unary operator cases\n"
     ]
    },
    {
     "data": {
      "text/plain": [
       "0"
      ]
     },
     "execution_count": 20,
     "metadata": {},
     "output_type": "execute_result"
    }
   ],
   "source": [
    "print('TODO: fix unary operator cases')\n",
    "len(ast_insight_df[ast_insight_df['error'].str.contains('Unary')])"
   ]
  },
  {
   "cell_type": "code",
   "execution_count": 21,
   "id": "723b7320",
   "metadata": {},
   "outputs": [],
   "source": [
    "infer_data = load_json_files(True)\n",
    "infer_output_data = {}\n",
    "infer_output_data = {filename: infer_data[filename]['output'] for filename in infer_data}\n",
    "infer_df = pd.DataFrame.from_dict(infer_data).transpose()"
   ]
  },
  {
   "cell_type": "code",
   "execution_count": 22,
   "id": "5dff4986",
   "metadata": {},
   "outputs": [],
   "source": [
    "def count_infer_buffer_overflows_detected(output_list):\n",
    "    return sum(1 for output in output_list if 'BUFFER_OVERRUN' in output['bug_type'])"
   ]
  },
  {
   "cell_type": "code",
   "execution_count": 23,
   "id": "5d0e698d",
   "metadata": {},
   "outputs": [],
   "source": [
    "infer_df['output'] = infer_df['output'].apply(lambda x: x if isinstance(x, list) else [])\n",
    "infer_df['error'] = infer_df['error'].fillna('')\n",
    "infer_df['overflows_detected'] = infer_df['output'].apply(count_infer_buffer_overflows_detected)"
   ]
  },
  {
   "cell_type": "code",
   "execution_count": 24,
   "id": "4556fda6",
   "metadata": {},
   "outputs": [
    {
     "data": {
      "text/html": [
       "<div>\n",
       "<style scoped>\n",
       "    .dataframe tbody tr th:only-of-type {\n",
       "        vertical-align: middle;\n",
       "    }\n",
       "\n",
       "    .dataframe tbody tr th {\n",
       "        vertical-align: top;\n",
       "    }\n",
       "\n",
       "    .dataframe thead th {\n",
       "        text-align: right;\n",
       "    }\n",
       "</style>\n",
       "<table border=\"1\" class=\"dataframe\">\n",
       "  <thead>\n",
       "    <tr style=\"text-align: right;\">\n",
       "      <th></th>\n",
       "      <th>output</th>\n",
       "      <th>error</th>\n",
       "      <th>overflows_detected</th>\n",
       "    </tr>\n",
       "  </thead>\n",
       "  <tbody>\n",
       "    <tr>\n",
       "      <th>/Users/danielverner/Programming/MSc_Thesis/python_c_ast/juliet-test-suite-c/testcases/CWE121_Stack_Based_Buffer_Overflow/s01/CWE121_Stack_Based_Buffer_Overflow__CWE129_fgets_52c.c</th>\n",
       "      <td>[]</td>\n",
       "      <td></td>\n",
       "      <td>0</td>\n",
       "    </tr>\n",
       "    <tr>\n",
       "      <th>/Users/danielverner/Programming/MSc_Thesis/python_c_ast/juliet-test-suite-c/testcases/CWE121_Stack_Based_Buffer_Overflow/s01/CWE121_Stack_Based_Buffer_Overflow__CWE129_connect_socket_22b.c</th>\n",
       "      <td>[]</td>\n",
       "      <td>local variable 'e' referenced before assignment</td>\n",
       "      <td>0</td>\n",
       "    </tr>\n",
       "    <tr>\n",
       "      <th>/Users/danielverner/Programming/MSc_Thesis/python_c_ast/juliet-test-suite-c/testcases/CWE121_Stack_Based_Buffer_Overflow/s01/CWE121_Stack_Based_Buffer_Overflow__CWE129_listen_socket_44.c</th>\n",
       "      <td>[{'bug_type': 'DEAD_STORE', 'qualifier': 'The ...</td>\n",
       "      <td></td>\n",
       "      <td>0</td>\n",
       "    </tr>\n",
       "    <tr>\n",
       "      <th>/Users/danielverner/Programming/MSc_Thesis/python_c_ast/juliet-test-suite-c/testcases/CWE121_Stack_Based_Buffer_Overflow/s01/CWE121_Stack_Based_Buffer_Overflow__CWE129_connect_socket_13.c</th>\n",
       "      <td>[]</td>\n",
       "      <td>local variable 'e' referenced before assignment</td>\n",
       "      <td>0</td>\n",
       "    </tr>\n",
       "    <tr>\n",
       "      <th>/Users/danielverner/Programming/MSc_Thesis/python_c_ast/juliet-test-suite-c/testcases/CWE121_Stack_Based_Buffer_Overflow/s01/CWE121_Stack_Based_Buffer_Overflow__CWE193_char_alloca_cpy_54b.c</th>\n",
       "      <td>[]</td>\n",
       "      <td></td>\n",
       "      <td>0</td>\n",
       "    </tr>\n",
       "    <tr>\n",
       "      <th>...</th>\n",
       "      <td>...</td>\n",
       "      <td>...</td>\n",
       "      <td>...</td>\n",
       "    </tr>\n",
       "    <tr>\n",
       "      <th>/Users/danielverner/Programming/MSc_Thesis/python_c_ast/juliet-test-suite-c/testcases/CWE122_Heap_Based_Buffer_Overflow/s11/CWE122_Heap_Based_Buffer_Overflow__sizeof_double_22a.c</th>\n",
       "      <td>[]</td>\n",
       "      <td></td>\n",
       "      <td>0</td>\n",
       "    </tr>\n",
       "    <tr>\n",
       "      <th>/Users/danielverner/Programming/MSc_Thesis/python_c_ast/juliet-test-suite-c/testcases/CWE122_Heap_Based_Buffer_Overflow/s11/CWE122_Heap_Based_Buffer_Overflow__sizeof_int64_t_02.c</th>\n",
       "      <td>[]</td>\n",
       "      <td></td>\n",
       "      <td>0</td>\n",
       "    </tr>\n",
       "    <tr>\n",
       "      <th>/Users/danielverner/Programming/MSc_Thesis/python_c_ast/juliet-test-suite-c/testcases/CWE122_Heap_Based_Buffer_Overflow/s11/CWE122_Heap_Based_Buffer_Overflow__sizeof_int64_t_08.c</th>\n",
       "      <td>[]</td>\n",
       "      <td></td>\n",
       "      <td>0</td>\n",
       "    </tr>\n",
       "    <tr>\n",
       "      <th>/Users/danielverner/Programming/MSc_Thesis/python_c_ast/juliet-test-suite-c/testcases/CWE122_Heap_Based_Buffer_Overflow/s11/CWE122_Heap_Based_Buffer_Overflow__sizeof_double_42.c</th>\n",
       "      <td>[]</td>\n",
       "      <td></td>\n",
       "      <td>0</td>\n",
       "    </tr>\n",
       "    <tr>\n",
       "      <th>/Users/danielverner/Programming/MSc_Thesis/python_c_ast/juliet-test-suite-c/testcases/CWE122_Heap_Based_Buffer_Overflow/s11/CWE122_Heap_Based_Buffer_Overflow__sizeof_struct_15.c</th>\n",
       "      <td>[]</td>\n",
       "      <td></td>\n",
       "      <td>0</td>\n",
       "    </tr>\n",
       "  </tbody>\n",
       "</table>\n",
       "<p>8339 rows × 3 columns</p>\n",
       "</div>"
      ],
      "text/plain": [
       "                                                                                               output  \\\n",
       "/Users/danielverner/Programming/MSc_Thesis/pyth...                                                 []   \n",
       "/Users/danielverner/Programming/MSc_Thesis/pyth...                                                 []   \n",
       "/Users/danielverner/Programming/MSc_Thesis/pyth...  [{'bug_type': 'DEAD_STORE', 'qualifier': 'The ...   \n",
       "/Users/danielverner/Programming/MSc_Thesis/pyth...                                                 []   \n",
       "/Users/danielverner/Programming/MSc_Thesis/pyth...                                                 []   \n",
       "...                                                                                               ...   \n",
       "/Users/danielverner/Programming/MSc_Thesis/pyth...                                                 []   \n",
       "/Users/danielverner/Programming/MSc_Thesis/pyth...                                                 []   \n",
       "/Users/danielverner/Programming/MSc_Thesis/pyth...                                                 []   \n",
       "/Users/danielverner/Programming/MSc_Thesis/pyth...                                                 []   \n",
       "/Users/danielverner/Programming/MSc_Thesis/pyth...                                                 []   \n",
       "\n",
       "                                                                                              error  \\\n",
       "/Users/danielverner/Programming/MSc_Thesis/pyth...                                                    \n",
       "/Users/danielverner/Programming/MSc_Thesis/pyth...  local variable 'e' referenced before assignment   \n",
       "/Users/danielverner/Programming/MSc_Thesis/pyth...                                                    \n",
       "/Users/danielverner/Programming/MSc_Thesis/pyth...  local variable 'e' referenced before assignment   \n",
       "/Users/danielverner/Programming/MSc_Thesis/pyth...                                                    \n",
       "...                                                                                             ...   \n",
       "/Users/danielverner/Programming/MSc_Thesis/pyth...                                                    \n",
       "/Users/danielverner/Programming/MSc_Thesis/pyth...                                                    \n",
       "/Users/danielverner/Programming/MSc_Thesis/pyth...                                                    \n",
       "/Users/danielverner/Programming/MSc_Thesis/pyth...                                                    \n",
       "/Users/danielverner/Programming/MSc_Thesis/pyth...                                                    \n",
       "\n",
       "                                                    overflows_detected  \n",
       "/Users/danielverner/Programming/MSc_Thesis/pyth...                   0  \n",
       "/Users/danielverner/Programming/MSc_Thesis/pyth...                   0  \n",
       "/Users/danielverner/Programming/MSc_Thesis/pyth...                   0  \n",
       "/Users/danielverner/Programming/MSc_Thesis/pyth...                   0  \n",
       "/Users/danielverner/Programming/MSc_Thesis/pyth...                   0  \n",
       "...                                                                ...  \n",
       "/Users/danielverner/Programming/MSc_Thesis/pyth...                   0  \n",
       "/Users/danielverner/Programming/MSc_Thesis/pyth...                   0  \n",
       "/Users/danielverner/Programming/MSc_Thesis/pyth...                   0  \n",
       "/Users/danielverner/Programming/MSc_Thesis/pyth...                   0  \n",
       "/Users/danielverner/Programming/MSc_Thesis/pyth...                   0  \n",
       "\n",
       "[8339 rows x 3 columns]"
      ]
     },
     "execution_count": 24,
     "metadata": {},
     "output_type": "execute_result"
    }
   ],
   "source": [
    "infer_df[infer_df['overflows_detected'] == 0]"
   ]
  },
  {
   "cell_type": "code",
   "execution_count": 25,
   "id": "9282b585",
   "metadata": {},
   "outputs": [
    {
     "data": {
      "text/plain": [
       "1223"
      ]
     },
     "execution_count": 25,
     "metadata": {},
     "output_type": "execute_result"
    }
   ],
   "source": [
    "len(infer_df[infer_df['overflows_detected'] > 0])"
   ]
  },
  {
   "cell_type": "code",
   "execution_count": 26,
   "id": "12b75271",
   "metadata": {},
   "outputs": [
    {
     "data": {
      "text/plain": [
       "<Figure size 12000x8000 with 0 Axes>"
      ]
     },
     "metadata": {},
     "output_type": "display_data"
    },
    {
     "data": {
      "image/png": "[encoded data removed]",
      "text/plain": [
       "<Figure size 1008x504 with 2 Axes>"
      ]
     },
     "metadata": {},
     "output_type": "display_data"
    }
   ],
   "source": [
    "ast_detected = (ast_insight_df['suggestions_count'] > 0).sum()\n",
    "infer_detected = (infer_df['overflows_detected'] > 0).sum()\n",
    "total_files_ast = len(ast_insight_df)\n",
    "total_files_infer = len(infer_df)\n",
    "\n",
    "ast_labels = ['Detected', '']\n",
    "ast_sizes = [ast_detected, total_files_ast - ast_detected]\n",
    "\n",
    "infer_labels = ['Detected', '']\n",
    "infer_sizes = [infer_detected, total_files_infer - infer_detected]\n",
    "\n",
    "plt.figure(dpi=2000) \n",
    "\n",
    "# Create pie charts\n",
    "fig, axs = plt.subplots(1, 2, figsize=(14, 7))\n",
    "\n",
    "# Pie chart for AST Insight\n",
    "axs[0].pie(ast_sizes, labels=ast_labels, autopct='%1.1f%%', colors=['green', 'gray'])\n",
    "axs[0].set_title('BOF Vulnerabilities Detected by AST Insight')\n",
    "\n",
    "# Pie chart for Infer\n",
    "axs[1].pie(infer_sizes, labels=infer_labels, autopct='%1.1f%%', colors=['orange', 'gray'])\n",
    "axs[1].set_title('BOF Vulnerabilities Detected by Infer')\n",
    "plt.savefig('detection_rate.png')\n",
    "# Display the charts\n",
    "plt.tight_layout()\n",
    "plt.show()\n"
   ]
  },
  {
   "cell_type": "code",
   "execution_count": null,
   "id": "94b3b6c5",
   "metadata": {},
   "outputs": [],
   "source": []
  },
  {
   "cell_type": "code",
   "execution_count": null,
   "id": "f3f1f9df",
   "metadata": {},
   "outputs": [],
   "source": []
  }
 ],
 "metadata": {
  "kernelspec": {
   "display_name": "Python 3",
   "language": "python",
   "name": "python3"
  },
  "language_info": {
   "codemirror_mode": {
    "name": "ipython",
    "version": 3
   },
   "file_extension": ".py",
   "mimetype": "text/x-python",
   "name": "python",
   "nbconvert_exporter": "python",
   "pygments_lexer": "ipython3",
   "version": "3.9.4"
  }
 },
 "nbformat": 4,
 "nbformat_minor": 5
}
