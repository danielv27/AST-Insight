{
 "cells": [
  {
   "cell_type": "code",
   "execution_count": 22,
   "id": "70ee2b4e",
   "metadata": {},
   "outputs": [
    {
     "name": "stdout",
     "output_type": "stream",
     "text": [
      "                                                file  \\\n",
      "0  CWE121_Stack_Based_Buffer_Overflow__CWE129_fge...   \n",
      "1  CWE121_Stack_Based_Buffer_Overflow__CWE129_fge...   \n",
      "2  CWE121_Stack_Based_Buffer_Overflow__CWE129_con...   \n",
      "3  CWE121_Stack_Based_Buffer_Overflow__CWE129_con...   \n",
      "4  CWE121_Stack_Based_Buffer_Overflow__CWE129_ran...   \n",
      "\n",
      "                                            function          status tool  \\\n",
      "0  CWE121_Stack_Based_Buffer_Overflow__CWE129_fge...   true_positive  ast   \n",
      "1  CWE121_Stack_Based_Buffer_Overflow__CWE129_fge...  false_positive  ast   \n",
      "2  CWE121_Stack_Based_Buffer_Overflow__CWE129_con...   true_positive  ast   \n",
      "3  CWE121_Stack_Based_Buffer_Overflow__CWE129_con...  false_positive  ast   \n",
      "4  CWE121_Stack_Based_Buffer_Overflow__CWE129_ran...   true_positive  ast   \n",
      "\n",
      "      cwe info  \n",
      "0  CWE121  NaN  \n",
      "1  CWE121  NaN  \n",
      "2  CWE121  NaN  \n",
      "3  CWE121  NaN  \n",
      "4  CWE121  NaN  \n"
     ]
    },
    {
     "data": {
      "text/plain": [
       "<Figure size 1008x576 with 0 Axes>"
      ]
     },
     "metadata": {},
     "output_type": "display_data"
    },
    {
     "data": {
      "image/png": "[encoded data removed]",
      "text/plain": [
       "<Figure size 432x288 with 1 Axes>"
      ]
     },
     "metadata": {
      "needs_background": "light"
     },
     "output_type": "display_data"
    },
    {
     "data": {
      "text/plain": [
       "<Figure size 1008x576 with 0 Axes>"
      ]
     },
     "metadata": {},
     "output_type": "display_data"
    },
    {
     "data": {
      "image/png": "[encoded data removed]",
      "text/plain": [
       "<Figure size 432x288 with 1 Axes>"
      ]
     },
     "metadata": {
      "needs_background": "light"
     },
     "output_type": "display_data"
    }
   ],
   "source": [
    "import json\n",
    "import pandas as pd\n",
    "import matplotlib.pyplot as plt\n",
    "import seaborn as sns\n",
    "from pathlib import Path\n",
    "\n",
    "# Directory containing the results\n",
    "RESULTS_PATH = os.path.join(Path.cwd().parent, 'results')\n",
    "\n",
    "# Tools and CWE types\n",
    "tools = ['ast', 'clang', 'cppcheck', 'infer']\n",
    "cwe_types = ['CWE121', 'CWE122']\n",
    "labels = {\n",
    "    'ast': 'AST Insight',\n",
    "    'infer': 'FB Infer',\n",
    "    'cppcheck': 'CPP Check',\n",
    "    'clang': 'Clang SA'\n",
    "}\n",
    "\n",
    "# Combine JSON data into a single DataFrame\n",
    "all_data = []\n",
    "\n",
    "for tool in tools:\n",
    "    for cwe in cwe_types:\n",
    "        file_path = os.path.join(RESULTS_PATH, f'{cwe}_{tool}_results.json')\n",
    "        if os.path.isfile(file_path):\n",
    "            with open(file_path, 'r') as file:\n",
    "                data = json.load(file)\n",
    "                for entry in data:\n",
    "                    entry['tool'] = tool\n",
    "                    entry['cwe'] = cwe\n",
    "                    all_data.append(entry)\n",
    "\n",
    "df = pd.DataFrame(all_data)\n",
    "\n",
    "# Check the structure of the DataFrame\n",
    "print(df.head())\n",
    "\n",
    "# Filter for true positives and false positives\n",
    "true_positives = df[df['status'] == 'true_positive']\n",
    "false_positives = df[df['status'] == 'false_positive']\n",
    "\n",
    "# Count the occurrences of each status for each tool and CWE type\n",
    "tp_counts = true_positives.groupby(['tool', 'cwe']).size().unstack().fillna(0)\n",
    "fp_counts = false_positives.groupby(['tool', 'cwe']).size().unstack().fillna(0)\n",
    "\n",
    "# Plot true positives\n",
    "plt.figure(figsize=(14, 8))\n",
    "tp_counts.plot(kind='bar')\n",
    "plt.title('True Positives by Tool and CWE Type')\n",
    "plt.xlabel('Tool and CWE Type')\n",
    "plt.ylabel('Number of True Positives')\n",
    "plt.xticks(rotation=45)\n",
    "plt.legend(title='CWE Type')\n",
    "plt.show()\n",
    "\n",
    "# Plot false positives\n",
    "plt.figure(figsize=(14, 8))\n",
    "fp_counts.plot(kind='bar')\n",
    "plt.title('False Positives by Tool and CWE Type')\n",
    "plt.xlabel('Tool and CWE Type')\n",
    "plt.ylabel('Number of False Positives')\n",
    "plt.xticks(rotation=45)\n",
    "plt.legend(title='CWE Type')\n",
    "plt.show()"
   ]
  },
  {
   "cell_type": "code",
   "execution_count": 4,
   "id": "843bce06",
   "metadata": {},
   "outputs": [],
   "source": [
    "import os\n",
    "import json\n",
    "import pandas as pd\n",
    "from pathlib import Path\n",
    "import matplotlib.pyplot as plt\n",
    "# Define the path to your JSON files\n",
    "RESULTS_PATH = os.path.join(Path.cwd().parent, 'results')\n",
    "# Function to load all JSON files from the directory\n",
    "def load_json_files(infer = False):\n",
    "    data = {}\n",
    "    for filename in os.listdir(RESULTS_PATH):\n",
    "        if filename.endswith('.json'):\n",
    "            if infer and 'infer' in filename:\n",
    "                with open(os.path.join(RESULTS_PATH, filename), 'r') as file:\n",
    "                    data.update(json.load(file))\n",
    "            elif (not infer) and (not 'infer' in filename):\n",
    "                with open(os.path.join(RESULTS_PATH, filename), 'r') as file:\n",
    "                    data.update(json.load(file))\n",
    "                \n",
    "    return data\n",
    "\n"
   ]
  },
  {
   "cell_type": "code",
   "execution_count": 5,
   "id": "e05acaf1",
   "metadata": {},
   "outputs": [
    {
     "ename": "ValueError",
     "evalue": "dictionary update sequence element #0 has length 4; 2 is required",
     "output_type": "error",
     "traceback": [
      "\u001b[0;31m---------------------------------------------------------------------------\u001b[0m",
      "\u001b[0;31mValueError\u001b[0m                                Traceback (most recent call last)",
      "\u001b[0;32m<ipython-input-5-0ce0d7cd2671>\u001b[0m in \u001b[0;36m<module>\u001b[0;34m\u001b[0m\n\u001b[0;32m----> 1\u001b[0;31m \u001b[0mast_insight_data\u001b[0m \u001b[0;34m=\u001b[0m \u001b[0mload_json_files\u001b[0m\u001b[0;34m(\u001b[0m\u001b[0;34m)\u001b[0m\u001b[0;34m\u001b[0m\u001b[0;34m\u001b[0m\u001b[0m\n\u001b[0m\u001b[1;32m      2\u001b[0m \u001b[0mast_insight_df\u001b[0m \u001b[0;34m=\u001b[0m \u001b[0mpd\u001b[0m\u001b[0;34m.\u001b[0m\u001b[0mDataFrame\u001b[0m\u001b[0;34m.\u001b[0m\u001b[0mfrom_dict\u001b[0m\u001b[0;34m(\u001b[0m\u001b[0mast_insight_data\u001b[0m\u001b[0;34m)\u001b[0m\u001b[0;34m.\u001b[0m\u001b[0mtranspose\u001b[0m\u001b[0;34m(\u001b[0m\u001b[0;34m)\u001b[0m\u001b[0;34m\u001b[0m\u001b[0;34m\u001b[0m\u001b[0m\n",
      "\u001b[0;32m<ipython-input-4-23babca48a83>\u001b[0m in \u001b[0;36mload_json_files\u001b[0;34m(infer)\u001b[0m\n\u001b[1;32m     16\u001b[0m             \u001b[0;32melif\u001b[0m \u001b[0;34m(\u001b[0m\u001b[0;32mnot\u001b[0m \u001b[0minfer\u001b[0m\u001b[0;34m)\u001b[0m \u001b[0;32mand\u001b[0m \u001b[0;34m(\u001b[0m\u001b[0;32mnot\u001b[0m \u001b[0;34m'infer'\u001b[0m \u001b[0;32min\u001b[0m \u001b[0mfilename\u001b[0m\u001b[0;34m)\u001b[0m\u001b[0;34m:\u001b[0m\u001b[0;34m\u001b[0m\u001b[0;34m\u001b[0m\u001b[0m\n\u001b[1;32m     17\u001b[0m                 \u001b[0;32mwith\u001b[0m \u001b[0mopen\u001b[0m\u001b[0;34m(\u001b[0m\u001b[0mos\u001b[0m\u001b[0;34m.\u001b[0m\u001b[0mpath\u001b[0m\u001b[0;34m.\u001b[0m\u001b[0mjoin\u001b[0m\u001b[0;34m(\u001b[0m\u001b[0mRESULTS_PATH\u001b[0m\u001b[0;34m,\u001b[0m \u001b[0mfilename\u001b[0m\u001b[0;34m)\u001b[0m\u001b[0;34m,\u001b[0m \u001b[0;34m'r'\u001b[0m\u001b[0;34m)\u001b[0m \u001b[0;32mas\u001b[0m \u001b[0mfile\u001b[0m\u001b[0;34m:\u001b[0m\u001b[0;34m\u001b[0m\u001b[0;34m\u001b[0m\u001b[0m\n\u001b[0;32m---> 18\u001b[0;31m                     \u001b[0mdata\u001b[0m\u001b[0;34m.\u001b[0m\u001b[0mupdate\u001b[0m\u001b[0;34m(\u001b[0m\u001b[0mjson\u001b[0m\u001b[0;34m.\u001b[0m\u001b[0mload\u001b[0m\u001b[0;34m(\u001b[0m\u001b[0mfile\u001b[0m\u001b[0;34m)\u001b[0m\u001b[0;34m)\u001b[0m\u001b[0;34m\u001b[0m\u001b[0;34m\u001b[0m\u001b[0m\n\u001b[0m\u001b[1;32m     19\u001b[0m \u001b[0;34m\u001b[0m\u001b[0m\n\u001b[1;32m     20\u001b[0m     \u001b[0;32mreturn\u001b[0m \u001b[0mdata\u001b[0m\u001b[0;34m\u001b[0m\u001b[0;34m\u001b[0m\u001b[0m\n",
      "\u001b[0;31mValueError\u001b[0m: dictionary update sequence element #0 has length 4; 2 is required"
     ]
    }
   ],
   "source": [
    "ast_insight_data = load_json_files()\n",
    "ast_insight_df = pd.DataFrame.from_dict(ast_insight_data).transpose()"
   ]
  },
  {
   "cell_type": "code",
   "execution_count": null,
   "id": "0a5db22a",
   "metadata": {},
   "outputs": [],
   "source": [
    "len(ast_insight_df)"
   ]
  },
  {
   "cell_type": "code",
   "execution_count": null,
   "id": "2bcc2704",
   "metadata": {},
   "outputs": [],
   "source": [
    "ast_insight_df['suggestions'] = ast_insight_df['suggestions'].apply(lambda x: x if isinstance(x, list) else [])\n",
    "ast_insight_df['error'] = ast_insight_df['error'].fillna('')\n",
    "ast_insight_df['suggestions_count'] = ast_insight_df['suggestions'].apply(len)\n",
    "\n",
    "len(ast_insight_df[ast_insight_df['suggestions_count'] > 0])"
   ]
  },
  {
   "cell_type": "code",
   "execution_count": null,
   "id": "bc551476",
   "metadata": {},
   "outputs": [],
   "source": [
    "len(ast_insight_df[ast_insight_df['status'] != 200])"
   ]
  },
  {
   "cell_type": "code",
   "execution_count": null,
   "id": "dbe16f79",
   "metadata": {},
   "outputs": [],
   "source": [
    "print('TODO: fix unary operator cases')\n",
    "len(ast_insight_df[ast_insight_df['error'].str.contains('Unary')])"
   ]
  },
  {
   "cell_type": "code",
   "execution_count": null,
   "id": "723b7320",
   "metadata": {},
   "outputs": [],
   "source": [
    "infer_data = load_json_files(True)\n",
    "infer_output_data = {}\n",
    "infer_output_data = {filename: infer_data[filename]['output'] for filename in infer_data}\n",
    "infer_df = pd.DataFrame.from_dict(infer_data).transpose()"
   ]
  },
  {
   "cell_type": "code",
   "execution_count": null,
   "id": "5dff4986",
   "metadata": {},
   "outputs": [],
   "source": [
    "def count_infer_buffer_overflows_detected(output_list):\n",
    "    return sum(1 for output in output_list if 'BUFFER_OVERRUN' in output['bug_type'])"
   ]
  },
  {
   "cell_type": "code",
   "execution_count": null,
   "id": "5d0e698d",
   "metadata": {},
   "outputs": [],
   "source": [
    "infer_df['output'] = infer_df['output'].apply(lambda x: x if isinstance(x, list) else [])\n",
    "infer_df['error'] = infer_df['error'].fillna('')\n",
    "infer_df['overflows_detected'] = infer_df['output'].apply(count_infer_buffer_overflows_detected)"
   ]
  },
  {
   "cell_type": "code",
   "execution_count": null,
   "id": "4556fda6",
   "metadata": {},
   "outputs": [],
   "source": [
    "infer_df[infer_df['overflows_detected'] == 0]"
   ]
  },
  {
   "cell_type": "code",
   "execution_count": null,
   "id": "9282b585",
   "metadata": {},
   "outputs": [],
   "source": [
    "len(infer_df[infer_df['overflows_detected'] > 0])"
   ]
  },
  {
   "cell_type": "code",
   "execution_count": null,
   "id": "c39a8fee",
   "metadata": {},
   "outputs": [],
   "source": []
  },
  {
   "cell_type": "code",
   "execution_count": null,
   "id": "12b75271",
   "metadata": {},
   "outputs": [],
   "source": [
    "ast_detected = (ast_insight_df['suggestions_count'] > 0).sum()\n",
    "infer_detected = (infer_df['overflows_detected'] > 0).sum()\n",
    "total_files_ast = len(ast_insight_df)\n",
    "total_files_infer = len(infer_df)\n",
    "\n",
    "ast_labels = ['Detected', '']\n",
    "ast_sizes = [ast_detected, total_files_ast - ast_detected]\n",
    "\n",
    "infer_labels = ['Detected', '']\n",
    "infer_sizes = [infer_detected, total_files_infer - infer_detected]\n",
    "\n",
    "plt.figure(dpi=2000) \n",
    "\n",
    "# Create pie charts\n",
    "fig, axs = plt.subplots(1, 2, figsize=(14, 7))\n",
    "\n",
    "# Pie chart for AST Insight\n",
    "axs[0].pie(ast_sizes, labels=ast_labels, autopct='%1.1f%%', colors=['green', 'gray'])\n",
    "axs[0].set_title('BOF Vulnerabilities Detected by AST Insight')\n",
    "\n",
    "# Pie chart for Infer\n",
    "axs[1].pie(infer_sizes, labels=infer_labels, autopct='%1.1f%%', colors=['orange', 'gray'])\n",
    "axs[1].set_title('BOF Vulnerabilities Detected by Infer')\n",
    "plt.savefig('detection_rate.png')\n",
    "# Display the charts\n",
    "plt.tight_layout()\n",
    "plt.show()\n"
   ]
  },
  {
   "cell_type": "code",
   "execution_count": null,
   "id": "94b3b6c5",
   "metadata": {},
   "outputs": [],
   "source": []
  },
  {
   "cell_type": "code",
   "execution_count": null,
   "id": "f3f1f9df",
   "metadata": {},
   "outputs": [],
   "source": []
  },
  {
   "cell_type": "code",
   "execution_count": null,
   "id": "633bab3c",
   "metadata": {},
   "outputs": [],
   "source": []
  },
  {
   "cell_type": "code",
   "execution_count": null,
   "id": "beb961d4",
   "metadata": {},
   "outputs": [],
   "source": []
  },
  {
   "cell_type": "code",
   "execution_count": null,
   "id": "8c8b7cbf",
   "metadata": {},
   "outputs": [],
   "source": []
  },
  {
   "cell_type": "code",
   "execution_count": null,
   "id": "ea1f64cb",
   "metadata": {},
   "outputs": [],
   "source": []
  }
 ],
 "metadata": {
  "kernelspec": {
   "display_name": "Python 3",
   "language": "python",
   "name": "python3"
  },
  "language_info": {
   "codemirror_mode": {
    "name": "ipython",
    "version": 3
   },
   "file_extension": ".py",
   "mimetype": "text/x-python",
   "name": "python",
   "nbconvert_exporter": "python",
   "pygments_lexer": "ipython3",
   "version": "3.9.4"
  }
 },
 "nbformat": 4,
 "nbformat_minor": 5
}
